{
 "cells": [
  {
   "cell_type": "markdown",
   "id": "ca89b3b7",
   "metadata": {},
   "source": [
    "Question 1\n",
    "What data type is each of the following?\n",
    "5 :- INTEGER TYPE\n",
    "5.0 :- FLOAT TYPE\n",
    "5 > 1 :- BOOLEAN TYPE\n",
    "'5' :- STRING TYPE\n",
    "5 * 2 :-INTEGER TYPE\n",
    "'5' * 2 :- STRING TYPE\n",
    "'5' + '2':- STRING TYPE\n",
    "5 / 2 :- FLOAT TYPE\n",
    "5 % 2 :- INTEGER TYPE\n",
    "{5, 2, 1} :- SET\n",
    "5 == 3 :- BOOLEAN TYPE\n",
    "Pi (the number):- FLOATING DATA TYPE"
   ]
  },
  {
   "cell_type": "markdown",
   "id": "b78fce2e",
   "metadata": {},
   "source": [
    "Question 2\n",
    "Write (and evaluate) C# expressions that answer these questions:\n",
    "a. How many letters are there in 'Supercalifragilisticexpialidocious'?"
   ]
  },
  {
   "cell_type": "code",
   "execution_count": 19,
   "id": "cb00b876",
   "metadata": {
    "scrolled": true
   },
   "outputs": [
    {
     "name": "stdout",
     "output_type": "stream",
     "text": [
      "Number of letters in the word: 34\r\n"
     ]
    }
   ],
   "source": [
    "string word = \"Supercalifragilisticexpialidocious\";\n",
    "int letterCount = word.Length;\n",
    "Console.WriteLine(\"Number of letters in the word: \" + letterCount);\n"
   ]
  },
  {
   "cell_type": "markdown",
   "id": "a2eddc7a",
   "metadata": {},
   "source": [
    "b. Does 'Supercalifragilisticexpialidocious' contain 'ice' as a substring?"
   ]
  },
  {
   "cell_type": "code",
   "execution_count": 8,
   "id": "3c1ea9c7",
   "metadata": {},
   "outputs": [
    {
     "name": "stdout",
     "output_type": "stream",
     "text": [
      "The word contain 'ice' is True\r\n"
     ]
    }
   ],
   "source": [
    "string word = \"Supercalifragilisticexpialidocious\";\n",
    "bool containsIce = word.Contains(\"ice\");\n",
    "Console.WriteLine(\"The word contain 'ice' is \" + containsIce);\n"
   ]
  },
  {
   "cell_type": "markdown",
   "id": "570123cf",
   "metadata": {},
   "source": [
    "c. Which of the following words is the longest: \n",
    "Supercalifragilisticexpialidocious, Honorificabilitudinitatibus, or \n",
    "Bababadalgharaghtakamminarronnkonn? "
   ]
  },
  {
   "cell_type": "code",
   "execution_count": 78,
   "id": "b52ec228",
   "metadata": {},
   "outputs": [
    {
     "name": "stdout",
     "output_type": "stream",
     "text": [
      "Supercalifragilisticexpialidocious\n",
      "Bababadalgharaghtakamminarronnkonn\n"
     ]
    }
   ],
   "source": [
    "string word1 = \"Supercalifragilisticexpialidocious\";\n",
    "string word2 = \"Honorificabilitudinitatibus\";\n",
    "string word3 = \"Bababadalgharaghtakamminarronnkonn\";\n",
    "\n",
    "int length1 = word1.Length;\n",
    "int length2 = word2.Length;\n",
    "int length3 = word3.Length;\n",
    "\n",
    "if (length1 >= length2 && length1 >= length3)\n",
    "{\n",
    "    Console.WriteLine(word1);\n",
    "}\n",
    "\n",
    "if (length2 >= length1 && length2 >= length3)\n",
    "{\n",
    "    Console.WriteLine(word2);\n",
    "}\n",
    "\n",
    "if (length3 >= length1 && length3 >= length2)\n",
    "{\n",
    "    Console.WriteLine(word3);\n",
    "}\n"
   ]
  },
  {
   "cell_type": "markdown",
   "id": "dc96446a",
   "metadata": {},
   "source": [
    " d. Which composer comes first in the dictionary: 'Berlioz', 'Borodin', 'Brian','Bartok', 'Bellini', 'Buxtehude', 'Bernstein'. Which one comes last?"
   ]
  },
  {
   "cell_type": "code",
   "execution_count": 55,
   "id": "12b51727",
   "metadata": {},
   "outputs": [
    {
     "name": "stdout",
     "output_type": "stream",
     "text": [
      "The first composer in the dictionary is: Bartok\n",
      "The last composer in the dictionary is:Buxtehude\n"
     ]
    }
   ],
   "source": [
    "string[] composers = { \"Berlioz\", \"Borodin\", \"Brian\", \"Bartok\", \"Bellini\", \"Buxtehude\", \"Bernstein\" };\n",
    "string composer1 = composers[0];\n",
    "string composer2 = composers[0];\n",
    "foreach (string comp in composers)\n",
    " {\n",
    "     if(string.Compare(comp, composer1)<0)\n",
    "         {        \n",
    "            composer1 = comp;\n",
    "         }\n",
    "                else if (string.Compare(comp, composer2)>0)\n",
    "                {\n",
    "                    composer2 = comp;\n",
    "                }\n",
    "\n",
    "}\n",
    "\n",
    "            Console.WriteLine(\"The first composer in the dictionary is: \" + composer1);\n",
    "            Console.WriteLine(\"The last composer in the dictionary is:\" +composer2);"
   ]
  },
  {
   "cell_type": "markdown",
   "id": "8bd38e59",
   "metadata": {},
   "source": [
    "Question 3\n",
    "Implement function triangleArea(a,b,c) that takes as input the lengths of the 3 sides of a triangle and returns the area of the triangle. By Heron's formula, the area of a triangle with side lengths a, b, and c is s(s - a)(s -b)(s -c), where s = (a+b+c)/2. "
   ]
  },
  {
   "cell_type": "code",
   "execution_count": 59,
   "id": "b36b476e",
   "metadata": {},
   "outputs": [
    {
     "name": "stdout",
     "output_type": "stream",
     "text": [
      "Area of Triangle :1.7320508075688772\r\n"
     ]
    }
   ],
   "source": [
    "double a=2.0;\n",
    "double b=2.0;\n",
    "double c=2.0;\n",
    "\n",
    "double s = (a + b + c) / 2.0;\n",
    "\n",
    "double area = Math.Sqrt(s*(s - a) * (s - b) * (s - c));\n",
    "Console.WriteLine(\"Area of Triangle :\" + area);\n",
    "\n",
    "\n",
    "\n",
    "         \n"
   ]
  },
  {
   "cell_type": "markdown",
   "id": "26910480",
   "metadata": {},
   "source": [
    "Question 4\n",
    "Write a program in C# Sharp to separate odd and even integers in separate arrays."
   ]
  },
  {
   "cell_type": "code",
   "execution_count": 65,
   "id": "04d38f98",
   "metadata": {},
   "outputs": [
    {
     "name": "stdout",
     "output_type": "stream",
     "text": [
      "Even numbers: \n",
      "42\n",
      "56\n",
      "32\n",
      "Odd numbers:\n",
      "25\n",
      "47\n"
     ]
    }
   ],
   "source": [
    "int[] Arrays={25,47,42,56,32};\n",
    "\n",
    "int[] oddArray = new int[2];\n",
    "int[] evenArray = new int[3];\n",
    "\n",
    "int odd = 0;\n",
    "int even = 0;\n",
    "foreach (int num in Arrays)\n",
    "{\n",
    "    if(num % 2 == 0)\n",
    "        {\n",
    "            evenArray[even] = num;\n",
    "            even++;\n",
    "        }\n",
    "    else\n",
    "        {\n",
    "            oddArray[odd] = num;\n",
    "            odd++;\n",
    "        }\n",
    "}\n",
    "Console.WriteLine(\"Even numbers: \");\n",
    "for (int i = 0; i < evenArray.Length; i++)\n",
    "    {\n",
    "        Console.WriteLine(evenArray[i]);\n",
    "    }\n",
    "Console.WriteLine(\"Odd numbers:\");\n",
    "for (int i = 0; i < oddArray.Length; i++)\n",
    "    {\n",
    "        Console.WriteLine(oddArray[i]);\n",
    "    }\n"
   ]
  },
  {
   "cell_type": "markdown",
   "id": "34fd07ba",
   "metadata": {},
   "source": [
    "Question 5\n",
    "a. Write a function inside(x,y,x1,y1,x2,y2) that returns True or False depending on whether the point (x,y) lies in the rectangle with lower left corner (x1,y1) and upper right corner (x2,y2)."
   ]
  },
  {
   "cell_type": "code",
   "execution_count": 70,
   "id": "2e7b9719",
   "metadata": {},
   "outputs": [
    {
     "name": "stdout",
     "output_type": "stream",
     "text": [
      "Inside (1,1,0,0,2,3): True\n",
      "Inside (-1,-1,0,0,2,3): False\n"
     ]
    }
   ],
   "source": [
    "static bool inside(double x, double y, double x1, double y1, double x2, double y2)\n",
    "    {\n",
    "        return (x >= x1 && x <= x2 && y1 <= y && y <= y2);\n",
    "    }\n",
    "bool insideRect1 = inside(1,1,0,0,2,3);\n",
    "bool insideRect2 = inside(-1,-1,0,0,2,3);\n",
    "\n",
    "if (insideRect1)\n",
    "{\n",
    "    Console.WriteLine($\"Inside (1,1,0,0,2,3): True\");\n",
    "}\n",
    "else\n",
    "{\n",
    "    Console.WriteLine($\"Inside (1,1,0,0,2,3): False\");\n",
    "}\n",
    "if (insideRect2)\n",
    "{\n",
    "    Console.WriteLine($\"Inside (-1,-1,0,0,2,3): True\");\n",
    "}\n",
    "else\n",
    "{\n",
    "    Console.WriteLine($\"Inside (-1,-1,0,0,2,3): False\");\n",
    "}\n"
   ]
  },
  {
   "cell_type": "markdown",
   "id": "7d889c99",
   "metadata": {},
   "source": [
    "b. Use function inside() from part a. to write an expression that tests whether the point (1,1) lies in both of the following rectangles: one with lower left corner (0.3, 0.5) and upper right corner (1.1, 0.7) and the other with lower left corner (0.5, 0.2) and upper right corner (1.1, 2)."
   ]
  },
  {
   "cell_type": "code",
   "execution_count": 77,
   "id": "b245e0c6",
   "metadata": {},
   "outputs": [
    {
     "name": "stdout",
     "output_type": "stream",
     "text": [
      "The point (1,1) not lies inside the both rectangles\r\n"
     ]
    }
   ],
   "source": [
    "static bool inside(double x, double y, double x1, double y1, double x2, double y2)\n",
    "    {\n",
    "        return (x >= x1 && x <= x2 && y1 <= y && y <= y2);\n",
    "    }\n",
    "bool insideRectng1 = inside(1,1,0.3,0.5,1.1,0.7);\n",
    "bool insideRectng2 = inside(1,1,0.5,0.2,1.1,2);\n",
    "\n",
    "if (insideRectng1 && insideRectng2)\n",
    "{\n",
    "    Console.WriteLine($\"The point (1,1) lies inside the both rectangles\");\n",
    "}\n",
    "else\n",
    "{\n",
    "    Console.WriteLine($\"The point (1,1) not lies inside the both rectangles\");\n",
    "}\n"
   ]
  }
 ],
 "metadata": {
  "kernelspec": {
   "display_name": ".NET (C#)",
   "language": "C#",
   "name": ".net-csharp"
  },
  "language_info": {
   "file_extension": ".cs",
   "mimetype": "text/x-csharp",
   "name": "C#",
   "pygments_lexer": "csharp",
   "version": "8.0"
  }
 },
 "nbformat": 4,
 "nbformat_minor": 5
}
